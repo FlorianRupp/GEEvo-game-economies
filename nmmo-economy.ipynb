{
 "cells": [
  {
   "cell_type": "code",
   "execution_count": 1,
   "id": "initial_id",
   "metadata": {
    "collapsed": true,
    "ExecuteTime": {
     "end_time": "2024-10-23T09:18:06.732958300Z",
     "start_time": "2024-10-23T09:18:06.012992100Z"
    }
   },
   "outputs": [],
   "source": [
    "from geevo.nodes import *\n",
    "from geevo.graph import Graph2, Graph3\n",
    "from geevo.simulation import Simulator\n",
    "\n",
    "%load_ext autoreload\n",
    "%autoreload 2\n",
    "\n",
    "%matplotlib inline"
   ]
  },
  {
   "cell_type": "code",
   "execution_count": 4,
   "outputs": [],
   "source": [
    "cond = \"a > b\""
   ],
   "metadata": {
    "collapsed": false,
    "ExecuteTime": {
     "end_time": "2024-10-23T09:16:31.028664100Z",
     "start_time": "2024-10-23T09:16:30.968575700Z"
    }
   },
   "id": "f26c8f6d09b2f2bf"
  },
  {
   "cell_type": "code",
   "execution_count": 5,
   "outputs": [
    {
     "data": {
      "text/plain": "True"
     },
     "execution_count": 5,
     "metadata": {},
     "output_type": "execute_result"
    }
   ],
   "source": [
    "a = 3\n",
    "b = 2\n",
    "s = cond.replace(\"a\", str(a))\n",
    "s = s.replace(\"b\", str(b))\n",
    "eval(s)"
   ],
   "metadata": {
    "collapsed": false,
    "ExecuteTime": {
     "end_time": "2024-10-23T09:16:31.248344300Z",
     "start_time": "2024-10-23T09:16:31.187770700Z"
    }
   },
   "id": "b500f551891efcbb"
  },
  {
   "cell_type": "code",
   "execution_count": 2,
   "outputs": [],
   "source": [
    "conf = {\n",
    "    Source: 1,\n",
    "    FixedPoolLimit: 2,\n",
    "    Converter: 1,\n",
    "    # Result: 1\n",
    "    # \"FixedPoolLimitConf\": [{\"lower\": 0,}]\n",
    "}"
   ],
   "metadata": {
    "collapsed": false,
    "ExecuteTime": {
     "end_time": "2024-10-23T09:18:06.779783600Z",
     "start_time": "2024-10-23T09:18:06.734958600Z"
    }
   },
   "id": "2b2c56b75ef80ae1"
  },
  {
   "cell_type": "code",
   "execution_count": 3,
   "outputs": [],
   "source": [
    "g = Graph2(config=conf, edge_list=[(0, 1), (1, 3), (3, 2)])"
   ],
   "metadata": {
    "collapsed": false,
    "ExecuteTime": {
     "end_time": "2024-10-23T08:50:18.053157300Z",
     "start_time": "2024-10-23T08:50:18.006970700Z"
    }
   },
   "id": "a3958007ae4cd917"
  },
  {
   "cell_type": "markdown",
   "source": [],
   "metadata": {
    "collapsed": false
   },
   "id": "64269e53658ca901"
  },
  {
   "cell_type": "code",
   "execution_count": 11,
   "outputs": [
    {
     "name": "stdout",
     "output_type": "stream",
     "text": [
      "{(0, 1): 1, (1, 3): 1, (3, 2): 1}\n"
     ]
    },
    {
     "data": {
      "text/plain": "<Figure size 720x324 with 1 Axes>",
      "image/png": "[encoded data removed]"
     },
     "metadata": {},
     "output_type": "display_data"
    }
   ],
   "source": [
    "s_in = StateConnectionPoolRegister(variable_name=\"a\", output_pool_id=2, register_input_id=0)\n",
    "s_out = StateConnectionRegisterEdge(output_register_id=0, edge_input_id=(0,1), modifier=10)\n",
    "r = Register(condition=\"a > 2\")\n",
    "r.add_input(s_in)\n",
    "r.add_output(s_out)\n",
    "\n",
    "g3 = Graph3(config=conf, edge_list=[(0, 1), (1, 3), (3, 2)], weights=[1, 1, 1], registers=[r])\n",
    "g3.plot()"
   ],
   "metadata": {
    "collapsed": false,
    "ExecuteTime": {
     "end_time": "2024-10-23T09:18:52.772778200Z",
     "start_time": "2024-10-23T09:18:52.648259800Z"
    }
   },
   "id": "3276d7aa398fea13"
  },
  {
   "cell_type": "code",
   "execution_count": 7,
   "outputs": [],
   "source": [
    "r.output_state_connection[0]"
   ],
   "metadata": {
    "collapsed": false,
    "ExecuteTime": {
     "end_time": "2024-10-23T08:10:47.985700400Z",
     "start_time": "2024-10-23T08:10:47.937138100Z"
    }
   },
   "id": "5e951009c9e96850"
  },
  {
   "cell_type": "code",
   "execution_count": 8,
   "outputs": [
    {
     "data": {
      "text/plain": "[<geevo.nodes.Register at 0x224b4ef0a00>]"
     },
     "execution_count": 8,
     "metadata": {},
     "output_type": "execute_result"
    }
   ],
   "source": [
    "g3.registers"
   ],
   "metadata": {
    "collapsed": false,
    "ExecuteTime": {
     "end_time": "2024-10-23T08:21:20.153904900Z",
     "start_time": "2024-10-23T08:21:20.071912Z"
    }
   },
   "id": "5c83ff6c4f09ef92"
  },
  {
   "cell_type": "code",
   "execution_count": 12,
   "outputs": [
    {
     "name": "stdout",
     "output_type": "stream",
     "text": [
      "Eval cond: 1 > 2 False\n",
      "Eval cond: 2 > 2 False\n",
      "Eval cond: 3 > 2 True\n",
      "Eval cond: 4 > 2 True\n",
      "Eval cond: 5 > 2 True\n",
      "Eval cond: 6 > 2 True\n",
      "Eval cond: 7 > 2 True\n",
      "Eval cond: 8 > 2 True\n",
      "Eval cond: 9 > 2 True\n",
      "Eval cond: 10 > 2 True\n",
      "Eval cond: 11 > 2 True\n",
      "Eval cond: 12 > 2 True\n",
      "Eval cond: 13 > 2 True\n",
      "Eval cond: 14 > 2 True\n",
      "Eval cond: 15 > 2 True\n",
      "Eval cond: 16 > 2 True\n",
      "Eval cond: 17 > 2 True\n",
      "Eval cond: 18 > 2 True\n",
      "Eval cond: 19 > 2 True\n",
      "Eval cond: 20 > 2 True\n"
     ]
    },
    {
     "data": {
      "text/plain": "{<geevo.nodes.FixedPoolLimit at 0x253a3015f90>: [0,\n  0,\n  0,\n  9,\n  18,\n  27,\n  36,\n  45,\n  54,\n  63,\n  72,\n  81,\n  90,\n  99,\n  99,\n  99,\n  99,\n  99,\n  99,\n  99],\n <geevo.nodes.FixedPoolLimit at 0x253a3014d00>: [1,\n  2,\n  3,\n  4,\n  5,\n  6,\n  7,\n  8,\n  9,\n  10,\n  11,\n  12,\n  13,\n  14,\n  15,\n  16,\n  17,\n  18,\n  19,\n  20]}"
     },
     "execution_count": 12,
     "metadata": {},
     "output_type": "execute_result"
    }
   ],
   "source": [
    "g3.simulate(20)"
   ],
   "metadata": {
    "collapsed": false,
    "ExecuteTime": {
     "end_time": "2024-10-23T09:18:55.972769400Z",
     "start_time": "2024-10-23T09:18:55.915462400Z"
    }
   },
   "id": "60eb5dae5d88553d"
  }
 ],
 "metadata": {
  "kernelspec": {
   "display_name": "Python 3",
   "language": "python",
   "name": "python3"
  },
  "language_info": {
   "codemirror_mode": {
    "name": "ipython",
    "version": 2
   },
   "file_extension": ".py",
   "mimetype": "text/x-python",
   "name": "python",
   "nbconvert_exporter": "python",
   "pygments_lexer": "ipython2",
   "version": "2.7.6"
  }
 },
 "nbformat": 4,
 "nbformat_minor": 5
}
